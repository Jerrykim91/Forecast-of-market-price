{
 "cells": [
  {
   "cell_type": "code",
   "execution_count": 1,
   "metadata": {},
   "outputs": [],
   "source": [
    "import os ,csv\n",
    "import pandas as pd "
   ]
  },
  {
   "cell_type": "code",
   "execution_count": 2,
   "metadata": {},
   "outputs": [
    {
     "name": "stdout",
     "output_type": "stream",
     "text": [
      "C:\\Forecast-of-market-price\n"
     ]
    }
   ],
   "source": [
    "# 현재 경로 확인 \n",
    "print(os.getcwd())"
   ]
  },
  {
   "cell_type": "code",
   "execution_count": 3,
   "metadata": {},
   "outputs": [
    {
     "name": "stdout",
     "output_type": "stream",
     "text": [
      "2015-01-01_Baechu.csv\n",
      "2015-04-01_Baechu.csv\n",
      "2015-07-01_Baechu.csv\n",
      "2015-10-01_Baechu.csv\n",
      "2016-01-01_Baechu.csv\n",
      "2016-04-01_Baechu.csv\n",
      "2016-07-01_Baechu.csv\n",
      "2016-10-01_Baechu.csv\n",
      "2017-01-01_Baechu.csv\n",
      "2017-04-01_Baechu.csv\n",
      "2017-07-01_Baechu.csv\n",
      "2017-10-01_Baechu.csv\n",
      "2018-01-01_Baechu.csv\n",
      "2018-04-01_Baechu.csv\n",
      "2018-07-01_Baechu.csv\n",
      "2018-10-01_Baechu.csv\n",
      "2019-01-01_Baechu.csv\n",
      "2019-04-01_Baechu.csv\n"
     ]
    }
   ],
   "source": [
    "files = os.listdir('./data/output')[:-3] # -3을 한 이유 -> 잘못받아와서 \n",
    "for file in files:\n",
    "    print(file)"
   ]
  },
  {
   "cell_type": "code",
   "execution_count": 9,
   "metadata": {},
   "outputs": [
    {
     "name": "stdout",
     "output_type": "stream",
     "text": [
      "./data/output/2015-01-01_Baechu.csv\n"
     ]
    }
   ],
   "source": [
    "path = f'./data/output/{files[0]}'\n",
    "print(path)"
   ]
  },
  {
   "cell_type": "code",
   "execution_count": 12,
   "metadata": {},
   "outputs": [],
   "source": [
    "df   = pd.read_csv(path, encoding='euc-kr')"
   ]
  },
  {
   "cell_type": "code",
   "execution_count": null,
   "metadata": {},
   "outputs": [],
   "source": [
    "pd.concat([df1,df2])"
   ]
  },
  {
   "cell_type": "code",
   "execution_count": 13,
   "metadata": {
    "scrolled": true
   },
   "outputs": [
    {
     "data": {
      "text/html": [
       "<div>\n",
       "<style scoped>\n",
       "    .dataframe tbody tr th:only-of-type {\n",
       "        vertical-align: middle;\n",
       "    }\n",
       "\n",
       "    .dataframe tbody tr th {\n",
       "        vertical-align: top;\n",
       "    }\n",
       "\n",
       "    .dataframe thead th {\n",
       "        text-align: right;\n",
       "    }\n",
       "</style>\n",
       "<table border=\"1\" class=\"dataframe\">\n",
       "  <thead>\n",
       "    <tr style=\"text-align: right;\">\n",
       "      <th></th>\n",
       "      <th>Unnamed: 0</th>\n",
       "      <th>0</th>\n",
       "      <th>1</th>\n",
       "      <th>2</th>\n",
       "      <th>3</th>\n",
       "      <th>4</th>\n",
       "      <th>5</th>\n",
       "      <th>6</th>\n",
       "      <th>7</th>\n",
       "      <th>8</th>\n",
       "      <th>...</th>\n",
       "      <th>50</th>\n",
       "      <th>51</th>\n",
       "      <th>52</th>\n",
       "      <th>53</th>\n",
       "      <th>54</th>\n",
       "      <th>55</th>\n",
       "      <th>56</th>\n",
       "      <th>57</th>\n",
       "      <th>58</th>\n",
       "      <th>59</th>\n",
       "    </tr>\n",
       "  </thead>\n",
       "  <tbody>\n",
       "    <tr>\n",
       "      <th>0</th>\n",
       "      <td>date</td>\n",
       "      <td>2015-01</td>\n",
       "      <td>2015-01</td>\n",
       "      <td>2015-01</td>\n",
       "      <td>2015-01</td>\n",
       "      <td>2015-01</td>\n",
       "      <td>2015-01</td>\n",
       "      <td>2015-01</td>\n",
       "      <td>2015-01</td>\n",
       "      <td>2015-01</td>\n",
       "      <td>...</td>\n",
       "      <td>2015-03</td>\n",
       "      <td>2015-03</td>\n",
       "      <td>2015-03</td>\n",
       "      <td>2015-03</td>\n",
       "      <td>2015-03</td>\n",
       "      <td>2015-03</td>\n",
       "      <td>2015-03</td>\n",
       "      <td>2015-03</td>\n",
       "      <td>2015-03</td>\n",
       "      <td>2015-03</td>\n",
       "    </tr>\n",
       "    <tr>\n",
       "      <th>1</th>\n",
       "      <td>avg</td>\n",
       "      <td>3,800</td>\n",
       "      <td>3,800</td>\n",
       "      <td>3,800</td>\n",
       "      <td>3,800</td>\n",
       "      <td>3,800</td>\n",
       "      <td>3,800</td>\n",
       "      <td>3,800</td>\n",
       "      <td>3,800</td>\n",
       "      <td>3,800</td>\n",
       "      <td>...</td>\n",
       "      <td>4,900</td>\n",
       "      <td>5,000</td>\n",
       "      <td>4,900</td>\n",
       "      <td>5,100</td>\n",
       "      <td>5,100</td>\n",
       "      <td>5,100</td>\n",
       "      <td>5,100</td>\n",
       "      <td>5,100</td>\n",
       "      <td>5,000</td>\n",
       "      <td>5,000</td>\n",
       "    </tr>\n",
       "    <tr>\n",
       "      <th>2</th>\n",
       "      <td>가을</td>\n",
       "      <td>4,000</td>\n",
       "      <td>4,000</td>\n",
       "      <td>4,000</td>\n",
       "      <td>-</td>\n",
       "      <td>-</td>\n",
       "      <td>-</td>\n",
       "      <td>-</td>\n",
       "      <td>-</td>\n",
       "      <td>-</td>\n",
       "      <td>...</td>\n",
       "      <td>-</td>\n",
       "      <td>-</td>\n",
       "      <td>-</td>\n",
       "      <td>-</td>\n",
       "      <td>-</td>\n",
       "      <td>-</td>\n",
       "      <td>-</td>\n",
       "      <td>-</td>\n",
       "      <td>-</td>\n",
       "      <td>-</td>\n",
       "    </tr>\n",
       "    <tr>\n",
       "      <th>3</th>\n",
       "      <td>월동</td>\n",
       "      <td>-</td>\n",
       "      <td>-</td>\n",
       "      <td>-</td>\n",
       "      <td>4,000</td>\n",
       "      <td>4,000</td>\n",
       "      <td>4,000</td>\n",
       "      <td>4,000</td>\n",
       "      <td>4,000</td>\n",
       "      <td>4,000</td>\n",
       "      <td>...</td>\n",
       "      <td>6,000</td>\n",
       "      <td>6,000</td>\n",
       "      <td>5,500</td>\n",
       "      <td>5,500</td>\n",
       "      <td>5,500</td>\n",
       "      <td>5,500</td>\n",
       "      <td>5,500</td>\n",
       "      <td>5,500</td>\n",
       "      <td>5,000</td>\n",
       "      <td>5,000</td>\n",
       "    </tr>\n",
       "  </tbody>\n",
       "</table>\n",
       "<p>4 rows × 61 columns</p>\n",
       "</div>"
      ],
      "text/plain": [
       "  Unnamed: 0        0        1        2        3        4        5        6  \\\n",
       "0       date  2015-01  2015-01  2015-01  2015-01  2015-01  2015-01  2015-01   \n",
       "1        avg    3,800    3,800    3,800    3,800    3,800    3,800    3,800   \n",
       "2         가을    4,000    4,000    4,000        -        -        -        -   \n",
       "3         월동        -        -        -    4,000    4,000    4,000    4,000   \n",
       "\n",
       "         7        8  ...       50       51       52       53       54  \\\n",
       "0  2015-01  2015-01  ...  2015-03  2015-03  2015-03  2015-03  2015-03   \n",
       "1    3,800    3,800  ...    4,900    5,000    4,900    5,100    5,100   \n",
       "2        -        -  ...        -        -        -        -        -   \n",
       "3    4,000    4,000  ...    6,000    6,000    5,500    5,500    5,500   \n",
       "\n",
       "        55       56       57       58       59  \n",
       "0  2015-03  2015-03  2015-03  2015-03  2015-03  \n",
       "1    5,100    5,100    5,100    5,000    5,000  \n",
       "2        -        -        -        -        -  \n",
       "3    5,500    5,500    5,500    5,000    5,000  \n",
       "\n",
       "[4 rows x 61 columns]"
      ]
     },
     "execution_count": 13,
     "metadata": {},
     "output_type": "execute_result"
    }
   ],
   "source": [
    "df"
   ]
  }
 ],
 "metadata": {
  "kernelspec": {
   "display_name": "Python 3",
   "language": "python",
   "name": "python3"
  },
  "language_info": {
   "codemirror_mode": {
    "name": "ipython",
    "version": 3
   },
   "file_extension": ".py",
   "mimetype": "text/x-python",
   "name": "python",
   "nbconvert_exporter": "python",
   "pygments_lexer": "ipython3",
   "version": "3.6.5"
  }
 },
 "nbformat": 4,
 "nbformat_minor": 4
}
