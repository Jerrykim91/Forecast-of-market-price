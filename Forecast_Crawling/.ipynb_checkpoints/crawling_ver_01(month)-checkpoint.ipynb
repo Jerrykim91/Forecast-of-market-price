{
 "cells": [
  {
   "cell_type": "markdown",
   "metadata": {},
   "source": [
    "# 코드를 가지고 오기전 내가 뭘 크롤링 해올지 보자 \n",
    "- 1년치 배추 상품 데이터 크롤링 \n",
    " - 100 일이 넘어 가면 안된다 \n",
    "\n",
    "- 1. 홈페이지에 접속을 한다 \n",
    "- 2. 날자 범위를 정한다 \n",
    "- 3. 속성을 정한다. \n",
    "- 4. 조회를 누른다. \n",
    "- 5. url 주소를 확인한다. "
   ]
  },
  {
   "cell_type": "code",
   "execution_count": 1,
   "metadata": {},
   "outputs": [],
   "source": [
    "#  크롤링 \n",
    "from selenium import webdriver   # 웹드라이버 \n",
    "from selenium.webdriver.common.keys import Keys\n",
    "import urllib.request\n",
    "\n",
    "# datetime \n",
    "from datetime import datetime\n",
    "from datetime import timedelta\n",
    "\n",
    "# 디렉터리 작업용 팩 \n",
    "import shutil \n",
    "import win32com.client   # 이거 파일 확장자 변경시 필요 \n",
    "# import win32com.client as win32\n",
    "\n",
    "#  분석용 툴 \n",
    "import pandas as pd\n",
    "# import numpy as np\n",
    "import time, os"
   ]
  },
  {
   "cell_type": "markdown",
   "metadata": {},
   "source": [
    "# 3달치 먼저\n",
    "---"
   ]
  },
  {
   "cell_type": "code",
   "execution_count": 3,
   "metadata": {},
   "outputs": [],
   "source": [
    "# startday\n",
    "startday = '2019-01-01'\n",
    "# endday\n",
    "endday = '2019-03-31'\n",
    "\n",
    "# itemcategorycode \n",
    "# 채소류 : 200, 과일류 : 400\n",
    "itemcategorycode = 200   \n",
    "# itemcode : 품목 \n",
    "# 무 : 231, 배추 : 211\n",
    "itemcode = 211  \n",
    "# kindcode : 품종(01, 02, 03, 06), 전체는 ''(공백)\n",
    "kindcode = \"\"\n",
    "# productrankcode : 상품 등급\n",
    "productrankcode = 0"
   ]
  },
  {
   "cell_type": "code",
   "execution_count": 4,
   "metadata": {},
   "outputs": [],
   "source": [
    "order_path = 'https://www.kamis.or.kr/customer/price/retail/period.do'\n",
    "action_path = f'?action=daily&startday={startday}&endday={endday}&countycode=&itemcategorycode={itemcategorycode}&itemcode={itemcode}&kindcode={kindcode}&productrankcode={productrankcode}&convert_kg_yn=N'"
   ]
  },
  {
   "cell_type": "code",
   "execution_count": 5,
   "metadata": {},
   "outputs": [
    {
     "name": "stdout",
     "output_type": "stream",
     "text": [
      "https://www.kamis.or.kr/customer/price/retail/period.do?action=daily&startday=2019-01-01&endday=2019-03-31&countycode=&itemcategorycode=200&itemcode=211&kindcode=&productrankcode=0&convert_kg_yn=N\n"
     ]
    }
   ],
   "source": [
    "# 크롤링 타겟 \n",
    "url = order_path + action_path\n",
    "print(url)"
   ]
  },
  {
   "cell_type": "code",
   "execution_count": 6,
   "metadata": {},
   "outputs": [],
   "source": [
    "# 드라이버옵션설정 \n",
    "options = webdriver.ChromeOptions()\n",
    "\n",
    "# options.add_argument('headless') \n",
    "options.add_argument(\"window-size=1920x1080\")\n",
    "# user-agent \n",
    "options.add_argument('user-agent=Mozilla/5.0 (Macintosh; Intel Mac OS X 10_12_6) AppleWebKit/537.36 (KHTML, like Gecko) Chrome/61.0.3163.100 Safari/537.36')  "
   ]
  },
  {
   "cell_type": "code",
   "execution_count": 7,
   "metadata": {},
   "outputs": [],
   "source": [
    "# start = time.time()\n",
    "\n",
    "# 드라이버 가지고 오기 \n",
    "driver_path = '../data/webdriver/chromedriver.exe' \n",
    "driver = webdriver.Chrome(driver_path, options=options)\n",
    "\n",
    "# 드라이버에 진입할 경로 전달\n",
    "driver.get(url)\n",
    "time.sleep(1)"
   ]
  },
  {
   "cell_type": "code",
   "execution_count": 8,
   "metadata": {
    "scrolled": true
   },
   "outputs": [],
   "source": [
    "# 파일 저장\n",
    "target = driver.find_element_by_xpath(\"/html/body/div[1]/div/div[2]/section[3]/div/a\")\n",
    "target.click()\n",
    "time.sleep(3)\n",
    "driver.close() "
   ]
  },
  {
   "cell_type": "code",
   "execution_count": 9,
   "metadata": {},
   "outputs": [
    {
     "ename": "FileExistsError",
     "evalue": "[WinError 183] 파일이 이미 있으므로 만들 수 없습니다: 'C:/Users/admin/Downloads/가격정보.xls' -> 'C:/Users/admin/Downloads/data/2019-01-01_test1.xls'",
     "output_type": "error",
     "traceback": [
      "\u001b[1;31m---------------------------------------------------------------------------\u001b[0m",
      "\u001b[1;31mFileExistsError\u001b[0m                           Traceback (most recent call last)",
      "\u001b[1;32m<ipython-input-9-6b137c856aa8>\u001b[0m in \u001b[0;36m<module>\u001b[1;34m\u001b[0m\n\u001b[0;32m      3\u001b[0m \u001b[0mpath\u001b[0m \u001b[1;33m=\u001b[0m \u001b[1;34m'C:/Users/admin/Downloads/data/'\u001b[0m\u001b[1;33m\u001b[0m\u001b[1;33m\u001b[0m\u001b[0m\n\u001b[0;32m      4\u001b[0m \u001b[0mname\u001b[0m \u001b[1;33m=\u001b[0m \u001b[1;34m'test1'\u001b[0m\u001b[1;33m\u001b[0m\u001b[1;33m\u001b[0m\u001b[0m\n\u001b[1;32m----> 5\u001b[1;33m \u001b[0mos\u001b[0m\u001b[1;33m.\u001b[0m\u001b[0mrename\u001b[0m\u001b[1;33m(\u001b[0m\u001b[1;34mf'{Downloads_path}가격정보.xls'\u001b[0m\u001b[1;33m,\u001b[0m \u001b[1;34mf'{path}{startday}_{name}.xls'\u001b[0m\u001b[1;33m)\u001b[0m\u001b[1;33m\u001b[0m\u001b[1;33m\u001b[0m\u001b[0m\n\u001b[0m\u001b[0;32m      6\u001b[0m \u001b[0mtime\u001b[0m\u001b[1;33m.\u001b[0m\u001b[0msleep\u001b[0m\u001b[1;33m(\u001b[0m\u001b[1;36m1\u001b[0m\u001b[1;33m)\u001b[0m\u001b[1;33m\u001b[0m\u001b[1;33m\u001b[0m\u001b[0m\n",
      "\u001b[1;31mFileExistsError\u001b[0m: [WinError 183] 파일이 이미 있으므로 만들 수 없습니다: 'C:/Users/admin/Downloads/가격정보.xls' -> 'C:/Users/admin/Downloads/data/2019-01-01_test1.xls'"
     ]
    }
   ],
   "source": [
    "# 파일 이름 변경\n",
    "Downloads_path = 'C:/Users/admin/Downloads/'\n",
    "path = 'C:/Users/admin/Downloads/data/'\n",
    "name = 'test1'\n",
    "os.rename(f'{Downloads_path}가격정보.xls', f'{path}{startday}_{name}.xls')\n",
    "time.sleep(1)"
   ]
  },
  {
   "cell_type": "code",
   "execution_count": 10,
   "metadata": {},
   "outputs": [
    {
     "data": {
      "text/plain": [
       "<COMObject Excel.Application>"
      ]
     },
     "execution_count": 10,
     "metadata": {},
     "output_type": "execute_result"
    }
   ],
   "source": [
    "xl = win32com.client.Dispatch(\"Excel.Application\")\n",
    "xl"
   ]
  },
  {
   "cell_type": "code",
   "execution_count": 11,
   "metadata": {
    "scrolled": true
   },
   "outputs": [
    {
     "name": "stdout",
     "output_type": "stream",
     "text": [
      "C:\\Users\\admin\\Downloads\\data\\\n"
     ]
    }
   ],
   "source": [
    "# xls를 xlsx로 변경(에러때문)\n",
    "# 엑셀이 깔려 있어야 진행 가능\n",
    "excel = win32com.client.Dispatch(\"Excel.Application\")\n",
    "path = path.replace('/','\\\\')\n",
    "# print(path)\n",
    "xlwb = excel.Workbooks.Open(f'{path}{startday}_{name}.xls')\n",
    "xlwb.SaveAs(f'{path}{startday}_{name}.xlsx', FileFormat = 51)\n",
    "xlwb.Close()\n",
    "excel.Quit()\n",
    "time.sleep(1)"
   ]
  },
  {
   "cell_type": "code",
   "execution_count": null,
   "metadata": {},
   "outputs": [],
   "source": [
    "# 파일 삭제\n",
    "# path = 'C:/Users/admin/Downloads/'\n",
    "# os.remove(f'{path}{startday}_{name}.xls')\n",
    "# time.sleep(0.5)"
   ]
  },
  {
   "cell_type": "markdown",
   "metadata": {},
   "source": [
    "# 이제 1년 치 크롤링\n",
    "---"
   ]
  },
  {
   "cell_type": "code",
   "execution_count": null,
   "metadata": {},
   "outputs": [],
   "source": [
    "# 연도를 리스트에 담아서 원하는달만 픽 \n",
    "#2019년도로 진행 \n",
    "# 2019-01-01 ~ 2019-12-31\n",
    "# 총 12개의달 4번 분리 3*4 =12 "
   ]
  }
 ],
 "metadata": {
  "kernelspec": {
   "display_name": "Python 3",
   "language": "python",
   "name": "python3"
  },
  "language_info": {
   "codemirror_mode": {
    "name": "ipython",
    "version": 3
   },
   "file_extension": ".py",
   "mimetype": "text/x-python",
   "name": "python",
   "nbconvert_exporter": "python",
   "pygments_lexer": "ipython3",
   "version": "3.7.4"
  }
 },
 "nbformat": 4,
 "nbformat_minor": 2
}
