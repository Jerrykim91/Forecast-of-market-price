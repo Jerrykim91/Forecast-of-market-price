{
 "cells": [
  {
   "cell_type": "markdown",
   "metadata": {},
   "source": [
    "# 이제 1년 치 크롤링\n",
    "---"
   ]
  },
  {
   "cell_type": "code",
   "execution_count": 1,
   "metadata": {},
   "outputs": [],
   "source": [
    "# 연도를 리스트에 담아서 원하는달만 픽 \n",
    "#2019년도로 진행 \n",
    "# 2019-01-01 ~ 2019-12-31\n",
    "# 총 12개의달 4번 분리 3*4 =12 "
   ]
  },
  {
   "cell_type": "code",
   "execution_count": 2,
   "metadata": {},
   "outputs": [],
   "source": [
    "#  크롤링 \n",
    "from selenium import webdriver   # 웹드라이버 \n",
    "from selenium.webdriver.common.keys import Keys\n",
    "import urllib.request\n",
    "\n",
    "# datetime \n",
    "from datetime import datetime\n",
    "from datetime import timedelta\n",
    "\n",
    "# 디렉터리 작업용 팩 \n",
    "import shutil \n",
    "import win32com.client   # 이거 파일 확장자 변경시 필요 \n",
    "# import win32com.client as win32\n",
    "\n",
    "#  분석용 툴 \n",
    "import pandas as pd\n",
    "# import numpy as np\n",
    "import time, os"
   ]
  },
  {
   "cell_type": "code",
   "execution_count": 3,
   "metadata": {},
   "outputs": [],
   "source": [
    "# itemcategorycode \n",
    "# 채소류 : 200, 과일류 : 400\n",
    "itemcategorycode = 200   \n",
    "# itemcode : 품목 \n",
    "# 무 : 231, 배추 : 211\n",
    "itemcode = 211  \n",
    "# kindcode : 품종(01, 02, 03, 06), 전체는 ''(공백)\n",
    "kindcode = \"\"\n",
    "# productrankcode : 상품 등급\n",
    "productrankcode = 0"
   ]
  },
  {
   "cell_type": "code",
   "execution_count": 4,
   "metadata": {},
   "outputs": [
    {
     "name": "stdout",
     "output_type": "stream",
     "text": [
      "[('2019-01-01', '2019-03-31'), ('2019-04-01', '2019-06-30'), ('2019-07-01', '2019-09-30'), ('2019-10-01', '2019-12-31')] 4\n"
     ]
    }
   ],
   "source": [
    "date_list = [('2019-01-01', '2019-03-31'), ('2019-04-01', '2019-06-30'), ('2019-07-01', '2019-09-30'), ('2019-10-01', '2019-12-31')] \n",
    "print(date_list, len(date_list))"
   ]
  },
  {
   "cell_type": "code",
   "execution_count": 5,
   "metadata": {},
   "outputs": [
    {
     "name": "stdout",
     "output_type": "stream",
     "text": [
      "2019-03-31\n",
      "2019-06-30\n",
      "2019-09-30\n",
      "2019-12-31\n"
     ]
    }
   ],
   "source": [
    "for i in date_list:\n",
    "    print(i[1])"
   ]
  },
  {
   "cell_type": "code",
   "execution_count": 6,
   "metadata": {},
   "outputs": [
    {
     "name": "stdout",
     "output_type": "stream",
     "text": [
      "2019-01-01 <class 'str'> 2019-03-31\n",
      "2019-04-01 <class 'str'> 2019-06-30\n",
      "2019-07-01 <class 'str'> 2019-09-30\n",
      "2019-10-01 <class 'str'> 2019-12-31\n"
     ]
    }
   ],
   "source": [
    "# start_date, end_date\n",
    "for i,j in date_list:\n",
    "    start_date = i\n",
    "    end_date = j\n",
    "    print(start_date,type(start_date),end_date)\n",
    "    "
   ]
  },
  {
   "cell_type": "code",
   "execution_count": 7,
   "metadata": {},
   "outputs": [],
   "source": [
    "# 소매\n",
    "# order_path = 'https://www.kamis.or.kr/customer/price/retail/period.do'\n",
    "# 도매 \n",
    "order_path = 'https://www.kamis.or.kr/customer/price/wholesale/period.do'\n",
    "action_path = f'?action=daily&startday={start_date}&endday={end_date}&countycode=&itemcategorycode={itemcategorycode}&itemcode={itemcode}&kindcode={kindcode}&productrankcode={productrankcode}&convert_kg_yn=N'"
   ]
  },
  {
   "cell_type": "code",
   "execution_count": 8,
   "metadata": {},
   "outputs": [],
   "source": [
    "# 드라이버옵션설정 \n",
    "options = webdriver.ChromeOptions()\n",
    "\n",
    "# options.add_argument('headless') \n",
    "options.add_argument(\"window-size=1920x1080\")\n",
    "# user-agent \n",
    "options.add_argument('user-agent=Mozilla/5.0 (Macintosh; Intel Mac OS X 10_12_6) AppleWebKit/537.36 (KHTML, like Gecko) Chrome/61.0.3163.100 Safari/537.36')  "
   ]
  },
  {
   "cell_type": "code",
   "execution_count": 9,
   "metadata": {},
   "outputs": [
    {
     "name": "stdout",
     "output_type": "stream",
     "text": [
      "https://www.kamis.or.kr/customer/price/wholesale/period.do?action=daily&startday=2019-10-01&endday=2019-12-31&countycode=&itemcategorycode=200&itemcode=211&kindcode=&productrankcode=0&convert_kg_yn=N\n",
      "https://www.kamis.or.kr/customer/price/wholesale/period.do?action=daily&startday=2019-10-01&endday=2019-12-31&countycode=&itemcategorycode=200&itemcode=211&kindcode=&productrankcode=0&convert_kg_yn=N\n",
      "https://www.kamis.or.kr/customer/price/wholesale/period.do?action=daily&startday=2019-10-01&endday=2019-12-31&countycode=&itemcategorycode=200&itemcode=211&kindcode=&productrankcode=0&convert_kg_yn=N\n",
      "https://www.kamis.or.kr/customer/price/wholesale/period.do?action=daily&startday=2019-10-01&endday=2019-12-31&countycode=&itemcategorycode=200&itemcode=211&kindcode=&productrankcode=0&convert_kg_yn=N\n"
     ]
    }
   ],
   "source": [
    "for start_date, end_date in date_list:\n",
    "    name = 'Baechu_wholesale'\n",
    "    url = order_path + action_path\n",
    "    print(url)\n",
    "    \n",
    "    # 드라이버 가지고 오기 \n",
    "    driver_path = '../data/webdriver/chromedriver.exe' \n",
    "    driver = webdriver.Chrome(driver_path, options=options)\n",
    "\n",
    "    # 드라이버에 경로 전달\n",
    "    driver.get(url)\n",
    "    time.sleep(1)\n",
    "    \n",
    "    # 파일 저장\n",
    "    xpath = \"/html/body/div[1]/div/div[2]/section[3]/div/a\"\n",
    "    target = driver.find_element_by_xpath(xpath)\n",
    "    target.click()\n",
    "    time.sleep(3)\n",
    "    driver.close() \n",
    "    \n",
    "    # 파일 이름 변경\n",
    "    Downloads_path = 'C:/Users/admin/Downloads/'\n",
    "    path = 'C:/Forecast-of-market-price/data/input/'\n",
    "    os.rename(f'{Downloads_path}가격정보.xls', f'{path}{start_date}_{name}.xls')\n",
    "    time.sleep(1)\n",
    "    \n",
    "    # xls를 xlsx로 변경(에러때문)\n",
    "    # 엑셀이 깔려 있어야 진행 가능\n",
    "    excel = win32com.client.Dispatch(\"Excel.Application\")\n",
    "    path = path.replace('/','\\\\')\n",
    "    # print(path)\n",
    "    xlwb = excel.Workbooks.Open(f'{path}{start_date}_{name}.xls')\n",
    "    xlwb.SaveAs(f'{path}{start_date}_{name}.xlsx', FileFormat = 51)\n",
    "    xlwb.Close()\n",
    "    excel.Quit()\n",
    "    time.sleep(1)\n",
    "    \n",
    "    # 파일 삭제\n",
    "    path = 'C:/Forecast-of-market-price/data/input/'\n",
    "    os.remove(f'{path}{start_date}_{name}.xls')\n",
    "    time.sleep(0.5)"
   ]
  },
  {
   "cell_type": "code",
   "execution_count": null,
   "metadata": {},
   "outputs": [],
   "source": []
  },
  {
   "cell_type": "code",
   "execution_count": null,
   "metadata": {},
   "outputs": [],
   "source": []
  },
  {
   "cell_type": "markdown",
   "metadata": {},
   "source": [
    "---"
   ]
  },
  {
   "cell_type": "code",
   "execution_count": 10,
   "metadata": {},
   "outputs": [
    {
     "name": "stdout",
     "output_type": "stream",
     "text": [
      "[1, 2, 3, 4, 5, 6, 7, 8, 9, 10, 11, 12]\n"
     ]
    }
   ],
   "source": [
    "# for i in range(1,13):\n",
    "#     print(i)\n",
    "test_month = [i for i in range(1,13)] \n",
    "print(test_month)"
   ]
  },
  {
   "cell_type": "code",
   "execution_count": 11,
   "metadata": {},
   "outputs": [
    {
     "name": "stdout",
     "output_type": "stream",
     "text": [
      "[4, 6, 9, 11]\n"
     ]
    }
   ],
   "source": [
    "month_th = [4, 6, 9, 11]\n",
    "month_th_for = [end_day for end_day in month_th]\n",
    "print(month_th_for)"
   ]
  },
  {
   "cell_type": "code",
   "execution_count": 12,
   "metadata": {},
   "outputs": [],
   "source": [
    "# # 1, 3, 5, 7, 8, 10, 12 = 31일 \n",
    "# # 4, 6, 9, 11 => 30\n",
    "# # 2\n",
    "\n",
    "# def time_maker():\n",
    "#     # 연도\n",
    "#     # 범위 없이 \n",
    "#     year = year\n",
    "#     # 달 \n",
    "#     for month in range(1,13):\n",
    "#         print(month) \n",
    "#     # if 문 이용 윤년인 날자와 30일,31일 날자를 구분 \n",
    "#         month_th = [4, 6, 9, 11]\n",
    "#         for each_month in month_th:\n",
    "#     #         print(each_month)\n",
    "#             if month == each_month :\n",
    "#                 print('ok',each_month)\n",
    "\n",
    "#     elif month == 2 :\n",
    "#         # 뮨연 \n",
    "#         pass\n",
    "#     else:\n",
    "#         # 31 \n",
    "    \n",
    "#     # 달 단위로 \n",
    "    \n",
    "#     pass"
   ]
  },
  {
   "cell_type": "markdown",
   "metadata": {},
   "source": [
    "[의사코드]   \n",
    "    1. 변수 선언\n",
    "        - 년도    \n",
    "        - 결과 값   \n",
    "    2. 입력값 생성   \n",
    "    3. 계산식 선언    \n",
    "    4. 결과 값 출력   \n",
    "\n",
    "``` C\n",
    "#include <stdio.h>\n",
    "\n",
    "int main(void)\n",
    "{\n",
    "\tint year, result;\n",
    "\n",
    "\tprintf(\"알고 싶은 연도를 써주세요: \");\n",
    "\tscanf_s(\"%d\", &year);\n",
    "\n",
    "\tif ((year % 4 == 0) && (year % 100 != 0) || (year % 400 == 0))\n",
    "\t{\n",
    "\t\t//printf(\"윤년입니다.\"); -> 2가지가 빠짐  1. %d  2. 변수 출력값\n",
    "\t\tprintf(\"%d는 윤년입니다.\", year);\n",
    "\t\t\t}\n",
    "\t\t\telse\n",
    "\t\t\t{\n",
    "\t\t\t\t//printf(\" 윤년이 아닙니다.\"); -> 2가지가 빠짐  1. %d  2. 변수 출력값\n",
    "\t\t\t\tprintf(\"%d는 윤년이 아닙니다.\", year);\n",
    "\t\t\t}\n",
    "\treturn 0;\n",
    "\t } \n",
    "```"
   ]
  }
 ],
 "metadata": {
  "kernelspec": {
   "display_name": "Python 3",
   "language": "python",
   "name": "python3"
  },
  "language_info": {
   "codemirror_mode": {
    "name": "ipython",
    "version": 3
   },
   "file_extension": ".py",
   "mimetype": "text/x-python",
   "name": "python",
   "nbconvert_exporter": "python",
   "pygments_lexer": "ipython3",
   "version": "3.7.4"
  }
 },
 "nbformat": 4,
 "nbformat_minor": 2
}
