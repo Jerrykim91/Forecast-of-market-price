{
 "cells": [
  {
   "cell_type": "markdown",
   "metadata": {},
   "source": [
    "# 이제 1년 치 크롤링\n",
    "---"
   ]
  },
  {
   "cell_type": "code",
   "execution_count": null,
   "metadata": {},
   "outputs": [],
   "source": [
    "# 연도를 리스트에 담아서 원하는달만 픽 \n",
    "#2019년도로 진행 \n",
    "# 2019-01-01 ~ 2019-12-31\n",
    "# 총 12개의달 4번 분리 3*4 =12 "
   ]
  },
  {
   "cell_type": "code",
   "execution_count": null,
   "metadata": {},
   "outputs": [],
   "source": [
    "#  크롤링 \n",
    "from selenium import webdriver   # 웹드라이버 \n",
    "from selenium.webdriver.common.keys import Keys\n",
    "import urllib.request\n",
    "\n",
    "# datetime \n",
    "from datetime import datetime\n",
    "from datetime import timedelta\n",
    "\n",
    "# 디렉터리 작업용 팩 \n",
    "import shutil \n",
    "import win32com.client   # 이거 파일 확장자 변경시 필요 \n",
    "# import win32com.client as win32\n",
    "\n",
    "#  분석용 툴 \n",
    "import pandas as pd\n",
    "# import numpy as np\n",
    "import time, os"
   ]
  },
  {
   "cell_type": "code",
   "execution_count": null,
   "metadata": {},
   "outputs": [],
   "source": [
    "# itemcategorycode \n",
    "# 채소류 : 200, 과일류 : 400\n",
    "itemcategorycode = 200   \n",
    "# itemcode : 품목 \n",
    "# 무 : 231, 배추 : 211\n",
    "itemcode = 211  \n",
    "# kindcode : 품종(01, 02, 03, 06), 전체는 ''(공백)\n",
    "kindcode = \"\"\n",
    "# productrankcode : 상품 등급\n",
    "productrankcode = 0"
   ]
  },
  {
   "cell_type": "code",
   "execution_count": null,
   "metadata": {},
   "outputs": [],
   "source": [
    "# startday\n",
    "startday = '2019-01-01'\n",
    "# endday\n",
    "endday = '2019-03-31'\n",
    "\n",
    "# 어떻게 할 생각인가? "
   ]
  },
  {
   "cell_type": "code",
   "execution_count": null,
   "metadata": {},
   "outputs": [],
   "source": []
  },
  {
   "cell_type": "code",
   "execution_count": null,
   "metadata": {},
   "outputs": [],
   "source": []
  },
  {
   "cell_type": "code",
   "execution_count": null,
   "metadata": {},
   "outputs": [],
   "source": [
    "order_path = 'https://www.kamis.or.kr/customer/price/retail/period.do'\n",
    "action_path = f'?action=daily&startday={startday}&endday={endday}&countycode=&itemcategorycode={itemcategorycode}&itemcode={itemcode}&kindcode={kindcode}&productrankcode={productrankcode}&convert_kg_yn=N'"
   ]
  }
 ],
 "metadata": {
  "kernelspec": {
   "display_name": "Python 3",
   "language": "python",
   "name": "python3"
  },
  "language_info": {
   "codemirror_mode": {
    "name": "ipython",
    "version": 3
   },
   "file_extension": ".py",
   "mimetype": "text/x-python",
   "name": "python",
   "nbconvert_exporter": "python",
   "pygments_lexer": "ipython3",
   "version": "3.7.4"
  }
 },
 "nbformat": 4,
 "nbformat_minor": 2
}
